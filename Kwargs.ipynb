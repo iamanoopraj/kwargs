{
 "cells": [
  {
   "cell_type": "code",
   "execution_count": 1,
   "id": "c06cf5d9",
   "metadata": {},
   "outputs": [
    {
     "name": "stdout",
     "output_type": "stream",
     "text": [
      "1 2 3 4 5 6\n"
     ]
    }
   ],
   "source": [
    "print(1,2,3,4,5,6)"
   ]
  },
  {
   "cell_type": "code",
   "execution_count": 2,
   "id": "401939bd",
   "metadata": {},
   "outputs": [],
   "source": [
    "def test_kwargs(**kwargs):\n",
    "    return kwargs"
   ]
  },
  {
   "cell_type": "code",
   "execution_count": 3,
   "id": "96872bda",
   "metadata": {},
   "outputs": [
    {
     "data": {
      "text/plain": [
       "{'name': 'Tanz'}"
      ]
     },
     "execution_count": 3,
     "metadata": {},
     "output_type": "execute_result"
    }
   ],
   "source": [
    "test_kwargs(name='Tanz')"
   ]
  },
  {
   "cell_type": "markdown",
   "id": "dc3be49e",
   "metadata": {},
   "source": [
    "# Dictionary "
   ]
  },
  {
   "cell_type": "code",
   "execution_count": 4,
   "id": "6f5f6076",
   "metadata": {},
   "outputs": [],
   "source": [
    "# ['a','b','c']\n",
    "\n",
    "d = {}"
   ]
  },
  {
   "cell_type": "code",
   "execution_count": 5,
   "id": "e6b6c292",
   "metadata": {},
   "outputs": [
    {
     "data": {
      "text/plain": [
       "dict"
      ]
     },
     "execution_count": 5,
     "metadata": {},
     "output_type": "execute_result"
    }
   ],
   "source": [
    "type(d)"
   ]
  },
  {
   "cell_type": "code",
   "execution_count": 6,
   "id": "ee4fb72d",
   "metadata": {},
   "outputs": [],
   "source": [
    "alphabets = {'A':'Apple','B':'Ball'} # key:value"
   ]
  },
  {
   "cell_type": "code",
   "execution_count": 7,
   "id": "81327a95",
   "metadata": {},
   "outputs": [
    {
     "data": {
      "text/plain": [
       "{'A': 'Apple', 'B': 'Ball'}"
      ]
     },
     "execution_count": 7,
     "metadata": {},
     "output_type": "execute_result"
    }
   ],
   "source": [
    "alphabets"
   ]
  },
  {
   "cell_type": "code",
   "execution_count": 8,
   "id": "a3a99ab0",
   "metadata": {},
   "outputs": [],
   "source": [
    "# key: unique,cannot be null,neither can be any list/tuple/set\n",
    "\n",
    "# values : can be anything"
   ]
  },
  {
   "cell_type": "code",
   "execution_count": 9,
   "id": "ac7dd967",
   "metadata": {},
   "outputs": [
    {
     "ename": "KeyError",
     "evalue": "0",
     "output_type": "error",
     "traceback": [
      "\u001b[1;31m---------------------------------------------------------------------------\u001b[0m",
      "\u001b[1;31mKeyError\u001b[0m                                  Traceback (most recent call last)",
      "Cell \u001b[1;32mIn[9], line 1\u001b[0m\n\u001b[1;32m----> 1\u001b[0m alphabets[\u001b[38;5;241m0\u001b[39m]\n",
      "\u001b[1;31mKeyError\u001b[0m: 0"
     ]
    }
   ],
   "source": [
    "alphabets[0]"
   ]
  },
  {
   "cell_type": "code",
   "execution_count": null,
   "id": "0cfbd05c",
   "metadata": {},
   "outputs": [],
   "source": [
    "alphabets['A'] # access the values using keys"
   ]
  },
  {
   "cell_type": "code",
   "execution_count": 10,
   "id": "bdc8c2a0",
   "metadata": {},
   "outputs": [
    {
     "data": {
      "text/plain": [
       "'Apple'"
      ]
     },
     "execution_count": 10,
     "metadata": {},
     "output_type": "execute_result"
    }
   ],
   "source": [
    "alphabets.get('A')"
   ]
  },
  {
   "cell_type": "code",
   "execution_count": 11,
   "id": "1b786a63",
   "metadata": {},
   "outputs": [
    {
     "ename": "KeyError",
     "evalue": "'X'",
     "output_type": "error",
     "traceback": [
      "\u001b[1;31m---------------------------------------------------------------------------\u001b[0m",
      "\u001b[1;31mKeyError\u001b[0m                                  Traceback (most recent call last)",
      "Cell \u001b[1;32mIn[11], line 1\u001b[0m\n\u001b[1;32m----> 1\u001b[0m alphabets[\u001b[38;5;124m'\u001b[39m\u001b[38;5;124mX\u001b[39m\u001b[38;5;124m'\u001b[39m]\n",
      "\u001b[1;31mKeyError\u001b[0m: 'X'"
     ]
    }
   ],
   "source": [
    "alphabets['X'] # access the values using keys"
   ]
  },
  {
   "cell_type": "code",
   "execution_count": 12,
   "id": "d29197b9",
   "metadata": {},
   "outputs": [],
   "source": [
    "alphabets.get('X')"
   ]
  },
  {
   "cell_type": "code",
   "execution_count": 13,
   "id": "ef246fed",
   "metadata": {},
   "outputs": [
    {
     "data": {
      "text/plain": [
       "{'A': 'Apple', 'B': 'Ball'}"
      ]
     },
     "execution_count": 13,
     "metadata": {},
     "output_type": "execute_result"
    }
   ],
   "source": [
    "alphabets"
   ]
  },
  {
   "cell_type": "code",
   "execution_count": 14,
   "id": "2fdde55f",
   "metadata": {},
   "outputs": [],
   "source": [
    "alphabets['A'] = 'Aeroplane'"
   ]
  },
  {
   "cell_type": "code",
   "execution_count": 15,
   "id": "080a109c",
   "metadata": {},
   "outputs": [
    {
     "data": {
      "text/plain": [
       "{'A': 'Aeroplane', 'B': 'Ball'}"
      ]
     },
     "execution_count": 15,
     "metadata": {},
     "output_type": "execute_result"
    }
   ],
   "source": [
    "alphabets"
   ]
  },
  {
   "cell_type": "code",
   "execution_count": 16,
   "id": "e12ba2c9",
   "metadata": {},
   "outputs": [],
   "source": [
    "alphabets = {'A':'Apple','B':'Ball','A':'Ant'}"
   ]
  },
  {
   "cell_type": "code",
   "execution_count": 17,
   "id": "2db34ac1",
   "metadata": {},
   "outputs": [
    {
     "data": {
      "text/plain": [
       "{'A': 'Ant', 'B': 'Ball'}"
      ]
     },
     "execution_count": 17,
     "metadata": {},
     "output_type": "execute_result"
    }
   ],
   "source": [
    "alphabets"
   ]
  },
  {
   "cell_type": "markdown",
   "id": "40ba63d9",
   "metadata": {},
   "source": [
    "# kwargs "
   ]
  },
  {
   "cell_type": "code",
   "execution_count": 18,
   "id": "903ac1d2",
   "metadata": {},
   "outputs": [],
   "source": [
    "def test_kwargs(**kwargs):\n",
    "    return kwargs"
   ]
  },
  {
   "cell_type": "code",
   "execution_count": 19,
   "id": "5cd5b0ca",
   "metadata": {},
   "outputs": [
    {
     "data": {
      "text/plain": [
       "{'name': 'Tanz'}"
      ]
     },
     "execution_count": 19,
     "metadata": {},
     "output_type": "execute_result"
    }
   ],
   "source": [
    "test_kwargs(name='Tanz')"
   ]
  },
  {
   "cell_type": "code",
   "execution_count": 20,
   "id": "d085ea00",
   "metadata": {},
   "outputs": [
    {
     "ename": "TypeError",
     "evalue": "test_kwargs() takes 0 positional arguments but 1 was given",
     "output_type": "error",
     "traceback": [
      "\u001b[1;31m---------------------------------------------------------------------------\u001b[0m",
      "\u001b[1;31mTypeError\u001b[0m                                 Traceback (most recent call last)",
      "Cell \u001b[1;32mIn[20], line 1\u001b[0m\n\u001b[1;32m----> 1\u001b[0m test_kwargs(\u001b[38;5;124m'\u001b[39m\u001b[38;5;124mTanz\u001b[39m\u001b[38;5;124m'\u001b[39m)\n",
      "\u001b[1;31mTypeError\u001b[0m: test_kwargs() takes 0 positional arguments but 1 was given"
     ]
    }
   ],
   "source": [
    "test_kwargs('Tanz')"
   ]
  },
  {
   "cell_type": "code",
   "execution_count": 21,
   "id": "ed4c3b97",
   "metadata": {},
   "outputs": [
    {
     "data": {
      "text/plain": [
       "{'name': 'Tanz', 'age': 28, 'course': 'DS'}"
      ]
     },
     "execution_count": 21,
     "metadata": {},
     "output_type": "execute_result"
    }
   ],
   "source": [
    "test_kwargs(name='Tanz',age=28,course='DS')"
   ]
  },
  {
   "cell_type": "code",
   "execution_count": 22,
   "id": "3dcb522e",
   "metadata": {},
   "outputs": [
    {
     "ename": "TypeError",
     "evalue": "test_kwargs() takes 0 positional arguments but 1 was given",
     "output_type": "error",
     "traceback": [
      "\u001b[1;31m---------------------------------------------------------------------------\u001b[0m",
      "\u001b[1;31mTypeError\u001b[0m                                 Traceback (most recent call last)",
      "Cell \u001b[1;32mIn[22], line 1\u001b[0m\n\u001b[1;32m----> 1\u001b[0m test_kwargs({\u001b[38;5;124m'\u001b[39m\u001b[38;5;124mname\u001b[39m\u001b[38;5;124m'\u001b[39m: \u001b[38;5;124m'\u001b[39m\u001b[38;5;124mTanz\u001b[39m\u001b[38;5;124m'\u001b[39m, \u001b[38;5;124m'\u001b[39m\u001b[38;5;124mage\u001b[39m\u001b[38;5;124m'\u001b[39m: \u001b[38;5;241m28\u001b[39m, \u001b[38;5;124m'\u001b[39m\u001b[38;5;124mcourse\u001b[39m\u001b[38;5;124m'\u001b[39m: \u001b[38;5;124m'\u001b[39m\u001b[38;5;124mDS\u001b[39m\u001b[38;5;124m'\u001b[39m})\n",
      "\u001b[1;31mTypeError\u001b[0m: test_kwargs() takes 0 positional arguments but 1 was given"
     ]
    }
   ],
   "source": [
    "test_kwargs({'name': 'Tanz', 'age': 28, 'course': 'DS'})"
   ]
  },
  {
   "cell_type": "code",
   "execution_count": 23,
   "id": "853405fb",
   "metadata": {},
   "outputs": [
    {
     "data": {
      "text/plain": [
       "{'name': 'Tanz', 'age': 28, 'course': 'DS'}"
      ]
     },
     "execution_count": 23,
     "metadata": {},
     "output_type": "execute_result"
    }
   ],
   "source": [
    "test_kwargs(**{'name': 'Tanz', 'age': 28, 'course': 'DS'})"
   ]
  },
  {
   "cell_type": "code",
   "execution_count": 24,
   "id": "c077cf98",
   "metadata": {},
   "outputs": [],
   "source": [
    "def test_kwargs(testing = None,**kwargs):\n",
    "    return kwargs"
   ]
  },
  {
   "cell_type": "code",
   "execution_count": 25,
   "id": "287b883b",
   "metadata": {},
   "outputs": [
    {
     "data": {
      "text/plain": [
       "{'b': 'B', 'c': 'C'}"
      ]
     },
     "execution_count": 25,
     "metadata": {},
     "output_type": "execute_result"
    }
   ],
   "source": [
    "test_kwargs(testing='A',b='B',c='C')"
   ]
  },
  {
   "cell_type": "code",
   "execution_count": 26,
   "id": "9d78a822",
   "metadata": {},
   "outputs": [],
   "source": [
    "def test_kwargs(testing = None,**kwargs):\n",
    "    return testing,kwargs"
   ]
  },
  {
   "cell_type": "code",
   "execution_count": 27,
   "id": "86b43184",
   "metadata": {},
   "outputs": [
    {
     "data": {
      "text/plain": [
       "('A', {'b': 'B', 'c': 'C'})"
      ]
     },
     "execution_count": 27,
     "metadata": {},
     "output_type": "execute_result"
    }
   ],
   "source": [
    "test_kwargs(testing='A',b='B',c='C')"
   ]
  },
  {
   "cell_type": "code",
   "execution_count": 28,
   "id": "1e883c86",
   "metadata": {},
   "outputs": [],
   "source": [
    "def test_kwargs(testing,**kwargs):\n",
    "    return testing,kwargs"
   ]
  },
  {
   "cell_type": "code",
   "execution_count": 29,
   "id": "9b02bfb6",
   "metadata": {},
   "outputs": [
    {
     "data": {
      "text/plain": [
       "('A', {'b': 'B', 'c': 'C'})"
      ]
     },
     "execution_count": 29,
     "metadata": {},
     "output_type": "execute_result"
    }
   ],
   "source": [
    "test_kwargs('A',b='B',c='C')"
   ]
  },
  {
   "cell_type": "code",
   "execution_count": 30,
   "id": "ffba14a8",
   "metadata": {},
   "outputs": [],
   "source": [
    "def test_kwargs(*args,**kwargs):\n",
    "    return args,kwargs"
   ]
  },
  {
   "cell_type": "code",
   "execution_count": 31,
   "id": "b6c836f8",
   "metadata": {},
   "outputs": [
    {
     "data": {
      "text/plain": [
       "((10, 20, 30), {'a': 5, 'b': 6})"
      ]
     },
     "execution_count": 31,
     "metadata": {},
     "output_type": "execute_result"
    }
   ],
   "source": [
    "test_kwargs(10,20,30,a=5,b=6)"
   ]
  },
  {
   "cell_type": "code",
   "execution_count": 32,
   "id": "82aa0c94",
   "metadata": {},
   "outputs": [],
   "source": [
    "def test_kwargs(*args,**kwargs):\n",
    "    print(args)\n",
    "    print(kwargs)"
   ]
  },
  {
   "cell_type": "code",
   "execution_count": 33,
   "id": "ea195fc8",
   "metadata": {},
   "outputs": [
    {
     "name": "stdout",
     "output_type": "stream",
     "text": [
      "(10, 20, 30)\n",
      "{'a': 5, 'b': 6}\n"
     ]
    }
   ],
   "source": [
    "test_kwargs(10,20,30,a=5,b=6)"
   ]
  },
  {
   "cell_type": "code",
   "execution_count": 34,
   "id": "1b467368",
   "metadata": {},
   "outputs": [],
   "source": [
    "def area_shape(shape,*args,radius=0,length=0,width=0,**kwargs):\n",
    "    '''\n",
    "    shape: 'circle' or 'rectangle'\n",
    "    returns area\n",
    "    *args: name of the shape\n",
    "    '''\n",
    "    if args:\n",
    "        name,*_ = args\n",
    "        \n",
    "    if kwargs:\n",
    "        color = kwargs.get('color')\n",
    "        \n",
    "    \n",
    "    import math\n",
    "    \n",
    "    if args or kwargs:\n",
    "\n",
    "        if shape=='circle':\n",
    "            area = math.pi*radius**2\n",
    "            return name,area,color\n",
    "\n",
    "        elif shape=='rectangle':\n",
    "            area = length*width\n",
    "            return name,area,color\n",
    "        \n",
    "    else:\n",
    "        \n",
    "        if shape=='circle':\n",
    "            area = math.pi*radius**2\n",
    "            return area\n",
    "\n",
    "        elif shape=='rectangle':\n",
    "            area = length*width\n",
    "            return area"
   ]
  },
  {
   "cell_type": "code",
   "execution_count": 35,
   "id": "24fed1b8",
   "metadata": {},
   "outputs": [
    {
     "data": {
      "text/plain": [
       "('A', 7853.981633974483, None)"
      ]
     },
     "execution_count": 35,
     "metadata": {},
     "output_type": "execute_result"
    }
   ],
   "source": [
    "area_shape('circle','A',radius=50,hatching='transparent')"
   ]
  },
  {
   "cell_type": "code",
   "execution_count": 36,
   "id": "5c84913f",
   "metadata": {},
   "outputs": [],
   "source": [
    "def area_shape(shape,*args,radius=0,length=0,width=0,**kwargs):\n",
    "    '''\n",
    "    shape: 'circle' or 'rectangle'\n",
    "    returns area\n",
    "    *args: name of the shape\n",
    "    '''\n",
    "    if args:\n",
    "        name,*_ = args\n",
    "        \n",
    "    if kwargs:\n",
    "        color = kwargs['color']\n",
    "        \n",
    "    \n",
    "    import math\n",
    "    \n",
    "    if args or kwargs:\n",
    "\n",
    "        if shape=='circle':\n",
    "            area = math.pi*radius**2\n",
    "            return name,area,color\n",
    "\n",
    "        elif shape=='rectangle':\n",
    "            area = length*width\n",
    "            return name,area,color\n",
    "        \n",
    "    else:\n",
    "        \n",
    "        if shape=='circle':\n",
    "            area = math.pi*radius**2\n",
    "            return area\n",
    "\n",
    "        elif shape=='rectangle':\n",
    "            area = length*width\n",
    "            return area"
   ]
  },
  {
   "cell_type": "code",
   "execution_count": 37,
   "id": "55f6e8a9",
   "metadata": {},
   "outputs": [
    {
     "data": {
      "text/plain": [
       "('A', 7853.981633974483, 'red')"
      ]
     },
     "execution_count": 37,
     "metadata": {},
     "output_type": "execute_result"
    }
   ],
   "source": [
    "area_shape('circle','A',radius=50,color='red')"
   ]
  },
  {
   "cell_type": "code",
   "execution_count": 38,
   "id": "8e13969c",
   "metadata": {},
   "outputs": [
    {
     "ename": "KeyError",
     "evalue": "'color'",
     "output_type": "error",
     "traceback": [
      "\u001b[1;31m---------------------------------------------------------------------------\u001b[0m",
      "\u001b[1;31mKeyError\u001b[0m                                  Traceback (most recent call last)",
      "Cell \u001b[1;32mIn[38], line 1\u001b[0m\n\u001b[1;32m----> 1\u001b[0m area_shape(\u001b[38;5;124m'\u001b[39m\u001b[38;5;124mcircle\u001b[39m\u001b[38;5;124m'\u001b[39m,\u001b[38;5;124m'\u001b[39m\u001b[38;5;124mA\u001b[39m\u001b[38;5;124m'\u001b[39m,radius\u001b[38;5;241m=\u001b[39m\u001b[38;5;241m50\u001b[39m,size\u001b[38;5;241m=\u001b[39m\u001b[38;5;124m'\u001b[39m\u001b[38;5;124mBig\u001b[39m\u001b[38;5;124m'\u001b[39m)\n",
      "Cell \u001b[1;32mIn[36], line 11\u001b[0m, in \u001b[0;36marea_shape\u001b[1;34m(shape, radius, length, width, *args, **kwargs)\u001b[0m\n\u001b[0;32m      8\u001b[0m     name,\u001b[38;5;241m*\u001b[39m_ \u001b[38;5;241m=\u001b[39m args\n\u001b[0;32m     10\u001b[0m \u001b[38;5;28;01mif\u001b[39;00m kwargs:\n\u001b[1;32m---> 11\u001b[0m     color \u001b[38;5;241m=\u001b[39m kwargs[\u001b[38;5;124m'\u001b[39m\u001b[38;5;124mcolor\u001b[39m\u001b[38;5;124m'\u001b[39m]\n\u001b[0;32m     14\u001b[0m \u001b[38;5;28;01mimport\u001b[39;00m \u001b[38;5;21;01mmath\u001b[39;00m\n\u001b[0;32m     16\u001b[0m \u001b[38;5;28;01mif\u001b[39;00m args \u001b[38;5;129;01mor\u001b[39;00m kwargs:\n",
      "\u001b[1;31mKeyError\u001b[0m: 'color'"
     ]
    }
   ],
   "source": [
    "area_shape('circle','A',radius=50,size='Big')"
   ]
  },
  {
   "cell_type": "code",
   "execution_count": 39,
   "id": "de2c3e77",
   "metadata": {},
   "outputs": [
    {
     "data": {
      "text/plain": [
       "('A', 7853.981633974483, 'red')"
      ]
     },
     "execution_count": 39,
     "metadata": {},
     "output_type": "execute_result"
    }
   ],
   "source": [
    "area_shape('circle','A',radius=50,size='Big',color='red')"
   ]
  },
  {
   "cell_type": "code",
   "execution_count": 40,
   "id": "449683a1",
   "metadata": {},
   "outputs": [
    {
     "data": {
      "text/plain": [
       "{'A': 'Ant', 'B': 'Ball'}"
      ]
     },
     "execution_count": 40,
     "metadata": {},
     "output_type": "execute_result"
    }
   ],
   "source": [
    "alphabets"
   ]
  },
  {
   "cell_type": "code",
   "execution_count": 41,
   "id": "922da17e",
   "metadata": {},
   "outputs": [
    {
     "name": "stdout",
     "output_type": "stream",
     "text": [
      "None\n"
     ]
    }
   ],
   "source": [
    "print(alphabets.get('X'))"
   ]
  },
  {
   "cell_type": "markdown",
   "id": "eb11ffb6",
   "metadata": {},
   "source": [
    "# Scope "
   ]
  },
  {
   "cell_type": "code",
   "execution_count": 42,
   "id": "25857b39",
   "metadata": {},
   "outputs": [],
   "source": [
    "def testfunc():\n",
    "    x = 5\n",
    "    return x"
   ]
  },
  {
   "cell_type": "code",
   "execution_count": 43,
   "id": "8aa7ef07",
   "metadata": {},
   "outputs": [
    {
     "data": {
      "text/plain": [
       "5"
      ]
     },
     "execution_count": 43,
     "metadata": {},
     "output_type": "execute_result"
    }
   ],
   "source": [
    "testfunc()"
   ]
  },
  {
   "cell_type": "code",
   "execution_count": 44,
   "id": "2dc3b08c",
   "metadata": {},
   "outputs": [],
   "source": [
    "y = 10 # global\n",
    "\n",
    "def testfunc():\n",
    "    y = 5 # local scope\n",
    "    return y"
   ]
  },
  {
   "cell_type": "code",
   "execution_count": 45,
   "id": "78b25ded",
   "metadata": {},
   "outputs": [
    {
     "data": {
      "text/plain": [
       "10"
      ]
     },
     "execution_count": 45,
     "metadata": {},
     "output_type": "execute_result"
    }
   ],
   "source": [
    "y"
   ]
  },
  {
   "cell_type": "code",
   "execution_count": 46,
   "id": "fd2096b0",
   "metadata": {},
   "outputs": [
    {
     "name": "stdout",
     "output_type": "stream",
     "text": [
      "5\n",
      "10\n"
     ]
    }
   ],
   "source": [
    "print(testfunc())\n",
    "print(y)"
   ]
  },
  {
   "cell_type": "code",
   "execution_count": 47,
   "id": "6e71f28e",
   "metadata": {},
   "outputs": [],
   "source": [
    "z = 100\n",
    "\n",
    "def func():\n",
    "    return z"
   ]
  },
  {
   "cell_type": "code",
   "execution_count": 48,
   "id": "b149ea81",
   "metadata": {},
   "outputs": [
    {
     "data": {
      "text/plain": [
       "100"
      ]
     },
     "execution_count": 48,
     "metadata": {},
     "output_type": "execute_result"
    }
   ],
   "source": [
    "func()"
   ]
  },
  {
   "cell_type": "code",
   "execution_count": 49,
   "id": "ad1615f4",
   "metadata": {},
   "outputs": [],
   "source": [
    "def func():\n",
    "    import math\n",
    "    \n",
    "    return math.pi"
   ]
  },
  {
   "cell_type": "code",
   "execution_count": 50,
   "id": "4503997a",
   "metadata": {},
   "outputs": [
    {
     "data": {
      "text/plain": [
       "3.141592653589793"
      ]
     },
     "execution_count": 50,
     "metadata": {},
     "output_type": "execute_result"
    }
   ],
   "source": [
    "func()"
   ]
  },
  {
   "cell_type": "code",
   "execution_count": 51,
   "id": "82115881",
   "metadata": {},
   "outputs": [
    {
     "ename": "NameError",
     "evalue": "name 'math' is not defined",
     "output_type": "error",
     "traceback": [
      "\u001b[1;31m---------------------------------------------------------------------------\u001b[0m",
      "\u001b[1;31mNameError\u001b[0m                                 Traceback (most recent call last)",
      "Cell \u001b[1;32mIn[51], line 1\u001b[0m\n\u001b[1;32m----> 1\u001b[0m math\u001b[38;5;241m.\u001b[39mpi\n",
      "\u001b[1;31mNameError\u001b[0m: name 'math' is not defined"
     ]
    }
   ],
   "source": [
    "math.pi"
   ]
  },
  {
   "cell_type": "code",
   "execution_count": null,
   "id": "b2c64d5c",
   "metadata": {},
   "outputs": [],
   "source": []
  },
  {
   "cell_type": "code",
   "execution_count": null,
   "id": "710b2711-02fd-4c15-9f36-aee023eea71b",
   "metadata": {},
   "outputs": [],
   "source": []
  },
  {
   "cell_type": "code",
   "execution_count": null,
   "id": "920d7283-93c0-4637-aa23-26844d5330e1",
   "metadata": {},
   "outputs": [],
   "source": []
  },
  {
   "cell_type": "code",
   "execution_count": null,
   "id": "330741b6-d0be-4716-8b35-d0d143f1e0ac",
   "metadata": {},
   "outputs": [],
   "source": []
  },
  {
   "cell_type": "code",
   "execution_count": null,
   "id": "b0d44bad-c80f-4f70-b0d7-fe07e3a99653",
   "metadata": {},
   "outputs": [],
   "source": []
  },
  {
   "cell_type": "code",
   "execution_count": null,
   "id": "67ab9796-c625-46db-a47b-3f89bee50e0e",
   "metadata": {},
   "outputs": [],
   "source": []
  },
  {
   "cell_type": "code",
   "execution_count": null,
   "id": "8c582d85-1d9e-4a05-b65b-c5f5c890cf8b",
   "metadata": {},
   "outputs": [],
   "source": []
  },
  {
   "cell_type": "code",
   "execution_count": null,
   "id": "bf171ab7-aaf1-4636-b26b-b45b281bda11",
   "metadata": {},
   "outputs": [],
   "source": []
  }
 ],
 "metadata": {
  "kernelspec": {
   "display_name": "Python 3 (ipykernel)",
   "language": "python",
   "name": "python3"
  },
  "language_info": {
   "codemirror_mode": {
    "name": "ipython",
    "version": 3
   },
   "file_extension": ".py",
   "mimetype": "text/x-python",
   "name": "python",
   "nbconvert_exporter": "python",
   "pygments_lexer": "ipython3",
   "version": "3.11.7"
  },
  "widgets": {
   "application/vnd.jupyter.widget-state+json": {
    "state": {},
    "version_major": 2,
    "version_minor": 0
   }
  }
 },
 "nbformat": 4,
 "nbformat_minor": 5
}
